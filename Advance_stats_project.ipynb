{
 "cells": [
  {
   "cell_type": "code",
   "execution_count": 1,
   "id": "62ebe0d0",
   "metadata": {},
   "outputs": [],
   "source": [
    "import numpy as np\n",
    "import pandas as pd\n",
    "import matplotlib.pyplot as plt\n",
    "import seaborn as sns\n",
    "import scipy.stats as stats\n",
    "%matplotlib inLine"
   ]
  },
  {
   "cell_type": "markdown",
   "id": "90418f53",
   "metadata": {},
   "source": [
    "## Q1. A physiotherapist with a male football team is interested in studying the relationship between foot injuries and the positions at which the players play from the data collected"
   ]
  },
  {
   "cell_type": "markdown",
   "id": "0aada722",
   "metadata": {},
   "source": [
    "##### Table:-"
   ]
  },
  {
   "cell_type": "markdown",
   "id": "fa5e2037",
   "metadata": {},
   "source": [
    "<img src = \"Q1_Table.png\" style=\"width:500px;height:200px\"/>"
   ]
  },
  {
   "cell_type": "markdown",
   "id": "5761ecef",
   "metadata": {},
   "source": [
    "#### 1.1 What is the probability that a randomly chosen player would suffer an injury?"
   ]
  },
  {
   "cell_type": "code",
   "execution_count": 81,
   "id": "81cdd8f5",
   "metadata": {},
   "outputs": [
    {
     "name": "stdout",
     "output_type": "stream",
     "text": [
      "Probability that a randomly chosen player would suffer an injury is 61.7 %\n"
     ]
    }
   ],
   "source": [
    "Total_Players_Injured = 145\n",
    "Total_Players = 235\n",
    "Prob= Total_Players_Injured/Total_Players\n",
    "print (\"Probability that a randomly chosen player would suffer an injury is\", (round(Prob,4))*100,\"%\")"
   ]
  },
  {
   "cell_type": "markdown",
   "id": "e2cba766",
   "metadata": {},
   "source": [
    "#### 1.2 What is the probability that a player is a forward or a winger?"
   ]
  },
  {
   "cell_type": "code",
   "execution_count": 82,
   "id": "9963330e",
   "metadata": {},
   "outputs": [
    {
     "name": "stdout",
     "output_type": "stream",
     "text": [
      "Probability that a player is Forward or Winger is 52.0 %\n"
     ]
    }
   ],
   "source": [
    "Forward_Players = 94\n",
    "Total_Players = 235\n",
    "Prob_Forward = Forward_Players/Total_Players\n",
    "   \n",
    "Winger_Players = 29\n",
    "Prob_Winger = Winger_Players/Total_Players\n",
    "\n",
    "Prob_union = Prob_Forward+Prob_Winger\n",
    "print (\"Probability that a player is Forward or Winger is\", round(Prob_union,2)*100, \"%\")"
   ]
  },
  {
   "cell_type": "markdown",
   "id": "5eee15dc",
   "metadata": {},
   "source": [
    "#### 1.3 What is the probability that a randomly chosen player plays in a striker position and has a foot injury?"
   ]
  },
  {
   "cell_type": "code",
   "execution_count": 83,
   "id": "1d2e192e",
   "metadata": {},
   "outputs": [
    {
     "name": "stdout",
     "output_type": "stream",
     "text": [
      "Probability that a randomly chosen player plays in a striker position and has a foot injury 58.4 %\n"
     ]
    }
   ],
   "source": [
    "Players_injury_striker= 45\n",
    "TotalPlayers_striker= 77\n",
    "Prob_Striker_injury = Players_injury_striker/TotalPlayers_striker\n",
    "print (\"Probability that a randomly chosen player plays in a striker position and has a foot injury\", round(Prob_Striker_injury,3)*100, \"%\")"
   ]
  },
  {
   "cell_type": "markdown",
   "id": "7f5fc83d",
   "metadata": {},
   "source": [
    "#### 1.4 What is the probability that a randomly chosen injured player is a striker?"
   ]
  },
  {
   "cell_type": "code",
   "execution_count": 84,
   "id": "5d704456",
   "metadata": {},
   "outputs": [
    {
     "name": "stdout",
     "output_type": "stream",
     "text": [
      "Probability that a randomly chosen injured player is a striker 19.15 %\n"
     ]
    }
   ],
   "source": [
    "injured_player_striker= 45\n",
    "\n",
    "Prob_injured_striker = injured_player_striker/Total_Players\n",
    "print (\"Probability that a randomly chosen injured player is a striker\", round(Prob_injured_striker, 4)*100, \"%\")"
   ]
  },
  {
   "cell_type": "markdown",
   "id": "16283746",
   "metadata": {},
   "source": [
    "#### 1.5 What is the probability that a randomly chosen injured player is either a forward or an attacking midfielder? "
   ]
  },
  {
   "cell_type": "code",
   "execution_count": 85,
   "id": "ddd00fc4",
   "metadata": {},
   "outputs": [
    {
     "name": "stdout",
     "output_type": "stream",
     "text": [
      "Probability that a randomly chosen injured player is either a forward or an attacking midfielder 34.04 %\n"
     ]
    }
   ],
   "source": [
    "injured_player_forward = 56\n",
    "injured_player_attack_midfielder = 24\n",
    "\n",
    "Prob_forward_or_mid = (injured_player_forward/Total_Players)+(injured_player_attack_midfielder/Total_Players)\n",
    "print (\"Probability that a randomly chosen injured player is either a forward or an attacking midfielder\", round(Prob_forward_or_mid, 4)*100, \"%\")"
   ]
  },
  {
   "cell_type": "markdown",
   "id": "0e8e8dcc",
   "metadata": {},
   "source": [
    "### Q2. An independent research organization is trying to estimate the probability that an accident at a nuclear power plant will result in radiation leakage. The types of accidents possible at the plant are, fire hazards, mechanical failure, or human error. The research organization also knows that two or more types of accidents cannot occur simultaneously.\n",
    "### According to the studies carried out by the organization, the probability of a radiation leak in case of a fire is 20%, the probability of a radiation leak in case of a mechanical 50%, and the probability of a radiation leak in case of a human error is 10%. The studies also showed the following;\n",
    "\n",
    "- ### The probability of a radiation leak occurring simultaneously with a fire is 0.1%.\n",
    "- ### The probability of a radiation leak occurring simultaneously with a mechanical failure is 0.15%.\n",
    "- ### The probability of a radiation leak occurring simultaneously with a human error is 0.12%.\n",
    "\n",
    "### On the basis of the information available, answer the questions below:"
   ]
  },
  {
   "cell_type": "markdown",
   "id": "94b8c6e2",
   "metadata": {},
   "source": [
    "#### 2.1 What are the probabilities of a fire, a mechanical failure, and a human error respectively?"
   ]
  },
  {
   "cell_type": "code",
   "execution_count": 86,
   "id": "57f6be6d",
   "metadata": {},
   "outputs": [
    {
     "name": "stdout",
     "output_type": "stream",
     "text": [
      "Probability of Radiation Leak caused by Fire is 0.5 %\n"
     ]
    }
   ],
   "source": [
    "Prob_R_F = 0.2        #probability of (Radiation Leak | Given In case of Fire) or P(R|F)\n",
    "Prob_R_int_F= 0.001   #Probability (Radiation leak occurring simultaneously with fire)or P(R intersection F)\n",
    "\n",
    "Prob_F = Prob_R_int_F/Prob_R_F   #probaility of Fire\n",
    "print (\"Probability of Radiation Leak caused by Fire is\", Prob_F*100, \"%\")"
   ]
  },
  {
   "cell_type": "code",
   "execution_count": 87,
   "id": "0f1e312b",
   "metadata": {},
   "outputs": [
    {
     "name": "stdout",
     "output_type": "stream",
     "text": [
      "Probability of Radiation Leak caused by Mechanical Failure is 0.3 %\n"
     ]
    }
   ],
   "source": [
    "Prob_R_Mech = 0.5        #probability of (Radiation Leak | Given In case of Mechanical Failure) or P(R|M)\n",
    "Prob_R_int_M= 0.0015   #Probability (Radiation leak occurring simultaneously with Mechanical Failure)or P(R intersection M)\n",
    "\n",
    "Prob_M = Prob_R_int_M/Prob_R_Mech #probaility of Mechanical Failure\n",
    "print (\"Probability of Radiation Leak caused by Mechanical Failure is\", Prob_M*100, \"%\")"
   ]
  },
  {
   "cell_type": "code",
   "execution_count": 88,
   "id": "9738940f",
   "metadata": {},
   "outputs": [
    {
     "name": "stdout",
     "output_type": "stream",
     "text": [
      "Probability of Radiation Leak caused by Mechanical Failure is 1.2 %\n"
     ]
    }
   ],
   "source": [
    "Prob_R_H = 0.1        #probability of (Radiation Leak | Given In case of Human Error) or P(R|H)\n",
    "Prob_R_int_H= 0.0012   #Probability (Radiation leak occurring simultaneously with Human Error)or P(R intersection H)\n",
    "\n",
    "Prob_H = Prob_R_int_H/Prob_R_H #probaility of Human Error\n",
    "print (\"Probability of Radiation Leak caused by Mechanical Failure is\", Prob_H*100, \"%\")"
   ]
  },
  {
   "cell_type": "markdown",
   "id": "2cb6b802",
   "metadata": {},
   "source": [
    "#### 2.2 What is the probability of a radiation leak?"
   ]
  },
  {
   "cell_type": "code",
   "execution_count": 89,
   "id": "8eb098e5",
   "metadata": {},
   "outputs": [
    {
     "name": "stdout",
     "output_type": "stream",
     "text": [
      "Probability of a Radiation Leak : 0.37 %\n"
     ]
    }
   ],
   "source": [
    "#prob_radiation = p(R intersect F)+p(R intersect Mech)+p(R intersect H)\n",
    "Prob_R = Prob_R_int_F+Prob_R_int_M+Prob_R_int_H\n",
    "print (\"Probability of a Radiation Leak :\", Prob_R*100, \"%\")"
   ]
  },
  {
   "cell_type": "markdown",
   "id": "752577d1",
   "metadata": {},
   "source": [
    "#### 2.3 Suppose there has been a radiation leak in the reactor for which the definite cause is not known. What is the probability that it has been caused by:\n",
    "\n",
    "- #### A Fire.\n",
    "- #### A Mechanical Failure.\n",
    "- #### A Human Error."
   ]
  },
  {
   "cell_type": "markdown",
   "id": "5ea8a489",
   "metadata": {},
   "source": [
    "Probability of Radiation Leak caused by\n",
    "- ##### Fire :"
   ]
  },
  {
   "cell_type": "code",
   "execution_count": 90,
   "id": "0371126c",
   "metadata": {},
   "outputs": [
    {
     "name": "stdout",
     "output_type": "stream",
     "text": [
      "Probability of Radiation Leak caused by Fire is  27.027 %\n"
     ]
    }
   ],
   "source": [
    "#probability of (F|R) = probability of F intersect R / (Prob F intersect R + Prob M intersect R + Prob H intersect R)\n",
    "Prob_F_R = Prob_R_int_F / (Prob_R_int_F+Prob_R_int_M+Prob_R_int_H)\n",
    "print (\"Probability of Radiation Leak caused by Fire is \", round(Prob_F_R, 5)*100, \"%\")"
   ]
  },
  {
   "cell_type": "markdown",
   "id": "680b8d85",
   "metadata": {},
   "source": [
    "- ##### Mechanical Failure"
   ]
  },
  {
   "cell_type": "code",
   "execution_count": 91,
   "id": "ec212939",
   "metadata": {},
   "outputs": [
    {
     "name": "stdout",
     "output_type": "stream",
     "text": [
      "Probability of Radiation Leak caused by Mechanical Failure is  40.541 %\n"
     ]
    }
   ],
   "source": [
    "#probability of (M|R) = probability of M intersect R / (Prob F intersect R + Prob M intersect R + Prob H intersect R)\n",
    "Prob_M_R = Prob_R_int_M / (Prob_R_int_F+Prob_R_int_M+Prob_R_int_H)\n",
    "print (\"Probability of Radiation Leak caused by Mechanical Failure is \", round(Prob_M_R, 5)*100, \"%\")"
   ]
  },
  {
   "cell_type": "markdown",
   "id": "8c5781e6",
   "metadata": {},
   "source": [
    "- ##### Human Error"
   ]
  },
  {
   "cell_type": "code",
   "execution_count": 92,
   "id": "5783d7fb",
   "metadata": {},
   "outputs": [
    {
     "name": "stdout",
     "output_type": "stream",
     "text": [
      "Probability of Radiation Leak caused by Human Error is  32.432 %\n"
     ]
    }
   ],
   "source": [
    "#probability of (H|R) = probability of H intersect R / (Prob F intersect R + Prob M intersect R + Prob H intersect R)\n",
    "Prob_H_R = Prob_R_int_H / (Prob_R_int_F+Prob_R_int_M+Prob_R_int_H)\n",
    "print (\"Probability of Radiation Leak caused by Human Error is \", round(Prob_H_R, 5)*100, \"%\")"
   ]
  },
  {
   "cell_type": "markdown",
   "id": "20891fab",
   "metadata": {},
   "source": [
    "### Q3. The breaking strength of gunny bags used for packaging cement is normally distributed with a mean of 5 kg per sq. centimeter and a standard deviation of 1.5 kg per sq. centimeter. The quality team of the cement company wants to know the following about the packaging material to better understand wastage or pilferage within the supply chain; Answer the questions below based on the given information; (Provide an appropriate visual representation of your answers, without which marks will be deducted)"
   ]
  },
  {
   "cell_type": "markdown",
   "id": "6b3f017d",
   "metadata": {},
   "source": [
    "#### 3.1.What proportion of the gunny bags have a breaking strength less than 3.17 kg per sq cm?"
   ]
  },
  {
   "cell_type": "code",
   "execution_count": 93,
   "id": "9c1546ec",
   "metadata": {},
   "outputs": [],
   "source": [
    "mu = 5\n",
    "sigma = 1.5\n",
    "\n",
    "x_bar = 3.17\n",
    "#z=(x-mu)/sigma\n",
    "\n",
    "z=(x_bar-mu)/sigma"
   ]
  },
  {
   "cell_type": "code",
   "execution_count": 94,
   "id": "9a8cdfcc",
   "metadata": {
    "scrolled": true
   },
   "outputs": [
    {
     "data": {
      "text/plain": [
       "Text(0, 0.5, 'Probability')"
      ]
     },
     "execution_count": 94,
     "metadata": {},
     "output_type": "execute_result"
    },
    {
     "data": {
      "image/png": "[encoded data removed]",
      "text/plain": [
       "<Figure size 1080x288 with 2 Axes>"
      ]
     },
     "metadata": {
      "needs_background": "light"
     },
     "output_type": "display_data"
    }
   ],
   "source": [
    "fig, (ax1, ax2)=plt.subplots(1,2, figsize=(15,4))\n",
    "x=np.linspace(0, 10, 50)\n",
    "ax1.plot(x, stats.norm.pdf(x, mu, sigma))\n",
    "ax1.set_title('Normal Distribution for Strength of Gunny Bag')\n",
    "ax1.set_xlabel('Fig 1: Strength of Gunny Bag (Kg. sq cm)')\n",
    "ax1.set_ylabel('Probability')\n",
    "\n",
    "ax2.plot(x, stats.norm.pdf(x, mu, sigma), color='red')\n",
    "x1 = np.linspace(x.min(), 3.17, 50)\n",
    "plt.fill_between(x1, stats.norm.pdf(x1, mu, sigma), color=\"grey\")\n",
    "ax2.axvline(3.17, color='grey')\n",
    "ax2.set_title('Normal Distribution for Strength of Gunny Bag')\n",
    "ax2.set_xlabel('Fig 2: Strength of Gunny Bag (Kg. sq cm)')\n",
    "ax2.set_ylabel('Probability')"
   ]
  },
  {
   "cell_type": "markdown",
   "id": "87e92798",
   "metadata": {},
   "source": [
    "Fig 1. represents the Normal Distribution graph for Breaking Strength of Gunny Bag whereas, Fig 2. represents the same Normal distribution graph but shaded area represent the breaking strength of 3.17 kg per sq.cm as per given. \n",
    "The area of this shaded region will give the probability of the breaking strength less than this point(x=3.17)"
   ]
  },
  {
   "cell_type": "code",
   "execution_count": 95,
   "id": "33018962",
   "metadata": {},
   "outputs": [
    {
     "name": "stdout",
     "output_type": "stream",
     "text": [
      "Proportion of the gunny bags having a breaking strength less than 3.17kg per sq.cm 0.1112\n"
     ]
    }
   ],
   "source": [
    "p1=stats.norm.cdf(z)\n",
    "print ('Proportion of the gunny bags having a breaking strength less than 3.17kg per sq.cm %1.4f' %p1)"
   ]
  },
  {
   "cell_type": "markdown",
   "id": "5b98d0ad",
   "metadata": {},
   "source": [
    "#### 3.2 What proportion of the gunny bags have a breaking strength at least 3.6 kg per sq cm.?"
   ]
  },
  {
   "cell_type": "code",
   "execution_count": 96,
   "id": "ff29d72a",
   "metadata": {},
   "outputs": [
    {
     "data": {
      "text/plain": [
       "Text(0, 0.5, 'Probability')"
      ]
     },
     "execution_count": 96,
     "metadata": {},
     "output_type": "execute_result"
    },
    {
     "data": {
      "image/png": "[encoded data removed]",
      "text/plain": [
       "<Figure size 432x288 with 1 Axes>"
      ]
     },
     "metadata": {
      "needs_background": "light"
     },
     "output_type": "display_data"
    }
   ],
   "source": [
    "plt.plot(x, stats.norm.pdf(x, mu,sigma), color='red')\n",
    "x2 = np.linspace(3.6,x.max(),50)\n",
    "plt.fill_between(x2, stats.norm.pdf(x2, mu, sigma), color=\"grey\")\n",
    "plt.axvline(3.6, color='grey')\n",
    "plt.title('Normal Distribution for Strength of Gunny Bag')\n",
    "plt.xlabel('Fig 3: Strength of Gunny Bag (Kg. sq cm)')\n",
    "plt.ylabel('Probability')"
   ]
  },
  {
   "cell_type": "markdown",
   "id": "7659aac2",
   "metadata": {},
   "source": [
    "Fig 3. represents the same Normal distribution graph but shaded area represent the breaking strength of atleast 3.6 kg per sq.cm as per given. The area of this shaded region will give the probability of the breaking strength atleast than this point(x=3.6)"
   ]
  },
  {
   "cell_type": "code",
   "execution_count": 97,
   "id": "103d5f66",
   "metadata": {},
   "outputs": [],
   "source": [
    "x1_bar = 3.6\n",
    "#z=(x-mu)/sigma\n",
    "\n",
    "z1=(x1_bar-mu)/sigma"
   ]
  },
  {
   "cell_type": "code",
   "execution_count": 98,
   "id": "ce32f1b0",
   "metadata": {},
   "outputs": [
    {
     "name": "stdout",
     "output_type": "stream",
     "text": [
      "Proportion of the gunny bags having a breaking strength atleast than 3.6kg per sq.cm 0.8247\n"
     ]
    }
   ],
   "source": [
    "p2=1-stats.norm.cdf(z1)\n",
    "print ('Proportion of the gunny bags having a breaking strength atleast than 3.6kg per sq.cm %1.4f' %p2)"
   ]
  },
  {
   "cell_type": "markdown",
   "id": "226f284f",
   "metadata": {},
   "source": [
    "#### 3.3 What proportion of the gunny bags have a breaking strength between 5 and 5.5 kg per sq cm.?"
   ]
  },
  {
   "cell_type": "code",
   "execution_count": 99,
   "id": "e42f1f5b",
   "metadata": {},
   "outputs": [
    {
     "data": {
      "text/plain": [
       "<matplotlib.lines.Line2D at 0x203b0a1cbb0>"
      ]
     },
     "execution_count": 99,
     "metadata": {},
     "output_type": "execute_result"
    },
    {
     "data": {
      "image/png": "[encoded data removed]",
      "text/plain": [
       "<Figure size 432x288 with 1 Axes>"
      ]
     },
     "metadata": {
      "needs_background": "light"
     },
     "output_type": "display_data"
    }
   ],
   "source": [
    "plt.plot(x, stats.norm.pdf(x, mu,sigma), color='red')\n",
    "x3 = np.linspace(5,5.5,50)\n",
    "plt.fill_between(x3, stats.norm.pdf(x3, mu, sigma), color=\"grey\")\n",
    "plt.title('Normal Distribution for Strength of Gunny Bag')\n",
    "plt.xlabel('Fig 4: Strength of Gunny Bag (Kg. sq cm)')\n",
    "plt.ylabel('Probability')\n",
    "plt.axvline(5, color='grey')\n",
    "plt.axvline(5.5,color='grey')"
   ]
  },
  {
   "cell_type": "markdown",
   "id": "2acf475c",
   "metadata": {},
   "source": [
    "Fig 4. represents the same Normal distribution graph but shaded area represent the breaking strength between 5 and 5.5 kg per sq.cm as per given. The area of this shaded region will give the probability of the breaking strength between these two points"
   ]
  },
  {
   "cell_type": "code",
   "execution_count": 100,
   "id": "625ee5e0",
   "metadata": {},
   "outputs": [],
   "source": [
    "x2_bar = 5\n",
    "x3_bar = 5.5\n",
    "z2=(x2_bar-mu)/sigma\n",
    "z3 = (x3_bar-mu)/sigma\n",
    "p3=stats.norm.cdf(z3)-stats.norm.cdf(z2)"
   ]
  },
  {
   "cell_type": "code",
   "execution_count": 101,
   "id": "94c1567f",
   "metadata": {},
   "outputs": [
    {
     "name": "stdout",
     "output_type": "stream",
     "text": [
      "Proportion of the gunny bags having a breaking strength between 5 and 5.5kg per sq.cm 0.1306\n"
     ]
    }
   ],
   "source": [
    "print ('Proportion of the gunny bags having a breaking strength between 5 and 5.5kg per sq.cm %1.4f' %p3)"
   ]
  },
  {
   "cell_type": "markdown",
   "id": "aaa71b89",
   "metadata": {},
   "source": [
    "#### 3.4 What proportion of the gunny bags have a breaking strength NOT between 3 and 7.5 kg per sq cm.?"
   ]
  },
  {
   "cell_type": "code",
   "execution_count": 102,
   "id": "2f80b090",
   "metadata": {},
   "outputs": [
    {
     "data": {
      "text/plain": [
       "<matplotlib.lines.Line2D at 0x203b0a89e80>"
      ]
     },
     "execution_count": 102,
     "metadata": {},
     "output_type": "execute_result"
    },
    {
     "data": {
      "image/png": "[encoded data removed]",
      "text/plain": [
       "<Figure size 432x288 with 1 Axes>"
      ]
     },
     "metadata": {
      "needs_background": "light"
     },
     "output_type": "display_data"
    }
   ],
   "source": [
    "plt.plot(x, stats.norm.pdf(x, mu, sigma), color='red')\n",
    "x4 = np.linspace(x.min(),3,50)\n",
    "x5 = np.linspace(7.5, x.max(), 50)\n",
    "plt.fill_between(x4, stats.norm.pdf(x4, mu, sigma), color='grey')\n",
    "plt.fill_between(x5, stats.norm.pdf(x5, mu,sigma), color='grey')\n",
    "plt.title('Normal Distribution for Strength of Gunny Bag')\n",
    "plt.xlabel('Fig 5: Strength of Gunny Bag (Kg. sq cm)')\n",
    "plt.ylabel('Probability')\n",
    "plt.axvline(3, color='grey')\n",
    "plt.axvline(7.5, color='grey')"
   ]
  },
  {
   "cell_type": "markdown",
   "id": "a0e9cb6b",
   "metadata": {},
   "source": [
    "Fig 5. represents the same Normal distribution graph but here the two shaded region represent the breaking strength. If we are excluding the area of unshaded region from the total area, it will give the probability of the breaking strength NOT between 3 and 7.5 kg per sq.cm"
   ]
  },
  {
   "cell_type": "code",
   "execution_count": 103,
   "id": "6ec38784",
   "metadata": {},
   "outputs": [
    {
     "name": "stdout",
     "output_type": "stream",
     "text": [
      "Proportion of the gunny bags having a breaking strength NOT between 3 and 7.5kg per sq.cm 0.1390\n"
     ]
    }
   ],
   "source": [
    "x4_bar = 3\n",
    "x5_bar = 7.5\n",
    "z4=(x4_bar-mu)/sigma\n",
    "z5 = (x5_bar-mu)/sigma\n",
    "p4 = stats.norm.cdf(z5)-stats.norm.cdf(z4)\n",
    "prob4 = 1-p4\n",
    "print ('Proportion of the gunny bags having a breaking strength NOT between 3 and 7.5kg per sq.cm %1.4f' %prob4)"
   ]
  },
  {
   "cell_type": "markdown",
   "id": "1bb07798",
   "metadata": {},
   "source": [
    "### Q4. Grades of the final examination in a training course are found to be normally distributed, with a mean of 77 and a standard deviation of 8.5. Based on the given information, answer the questions below."
   ]
  },
  {
   "cell_type": "markdown",
   "id": "bf64e20d",
   "metadata": {},
   "source": [
    "#### 4.1 What is the probability that a randomly chosen student gets a grade below 85 on this exam?"
   ]
  },
  {
   "cell_type": "code",
   "execution_count": 104,
   "id": "77f97a94",
   "metadata": {},
   "outputs": [],
   "source": [
    "mean = 77\n",
    "standev = 8.5\n",
    "y=np.linspace(50,100, 50)"
   ]
  },
  {
   "cell_type": "code",
   "execution_count": 105,
   "id": "635ec950",
   "metadata": {},
   "outputs": [
    {
     "name": "stdout",
     "output_type": "stream",
     "text": [
      "Probability that a randomly chosen students gets a grade below 85 on this exam is 82.67 %\n"
     ]
    }
   ],
   "source": [
    "prob_85 = stats.norm.cdf(85, mean, standev)\n",
    "print ('Probability that a randomly chosen students gets a grade below 85 on this exam is', round(prob_85*100, 2),'%')"
   ]
  },
  {
   "cell_type": "code",
   "execution_count": 106,
   "id": "f55f0132",
   "metadata": {},
   "outputs": [
    {
     "data": {
      "text/plain": [
       "Text(0, 0.5, 'Cumulative Probability')"
      ]
     },
     "execution_count": 106,
     "metadata": {},
     "output_type": "execute_result"
    },
    {
     "data": {
      "image/png": "[encoded data removed]",
      "text/plain": [
       "<Figure size 432x288 with 1 Axes>"
      ]
     },
     "metadata": {
      "needs_background": "light"
     },
     "output_type": "display_data"
    }
   ],
   "source": [
    "plt.plot(y, stats.norm.cdf(y,mean, standev), color='blue')\n",
    "y1=np.linspace(y.min(), 85)\n",
    "plt.fill_between(y1, stats.norm.cdf(y1, mean, standev), color='red')\n",
    "plt.axvline(85, color='red')\n",
    "plt.title(\"Cumulative Distribution Graph of GRADES\")\n",
    "plt.xlabel(\"Fig 6: Grades of Final Exam\")\n",
    "plt.ylabel(\"Cumulative Probability\")"
   ]
  },
  {
   "cell_type": "markdown",
   "id": "41e0c7d1",
   "metadata": {},
   "source": [
    "From the graph Fig 6, we can clearly see from the shaded region shows that grades below 85 is obtained by students by 0.8267 portion"
   ]
  },
  {
   "cell_type": "markdown",
   "id": "a1c1a901",
   "metadata": {},
   "source": [
    "The probability that a randomly chosen student gets a grade below 85 is 82.67%"
   ]
  },
  {
   "cell_type": "markdown",
   "id": "5e63d85e",
   "metadata": {},
   "source": [
    "#### 4.2 What is the probability that a randomly selected student scores between 65 and 87?"
   ]
  },
  {
   "cell_type": "code",
   "execution_count": 107,
   "id": "e9a7bea5",
   "metadata": {},
   "outputs": [],
   "source": [
    "prob_87 = stats.norm.cdf(87, loc=mean, scale=standev)\n",
    "prob_65 = stats.norm.cdf(65, loc=mean, scale=standev)\n",
    "prob_b = prob_87-prob_65"
   ]
  },
  {
   "cell_type": "code",
   "execution_count": 108,
   "id": "fb67484c",
   "metadata": {},
   "outputs": [
    {
     "name": "stdout",
     "output_type": "stream",
     "text": [
      "Probability that a randomly selected student scores between 65 and 87 is 80.13 %\n"
     ]
    }
   ],
   "source": [
    "print ('Probability that a randomly selected student scores between 65 and 87 is', round(prob_b, 4)*100, '%')"
   ]
  },
  {
   "cell_type": "code",
   "execution_count": 109,
   "id": "f93eabd1",
   "metadata": {},
   "outputs": [
    {
     "data": {
      "text/plain": [
       "Text(0, 0.5, 'Cumulative Probability')"
      ]
     },
     "execution_count": 109,
     "metadata": {},
     "output_type": "execute_result"
    },
    {
     "data": {
      "image/png": "[encoded data removed]",
      "text/plain": [
       "<Figure size 432x288 with 1 Axes>"
      ]
     },
     "metadata": {
      "needs_background": "light"
     },
     "output_type": "display_data"
    }
   ],
   "source": [
    "plt.plot(y, stats.norm.cdf(y,mean, standev), color='blue')\n",
    "y2=np.linspace(65,87,50)\n",
    "plt.fill_between(y2, stats.norm.cdf(y2, mean, standev), color='red')\n",
    "plt.axvline(65, color='red')\n",
    "plt.axvline(87, color='red')\n",
    "plt.title(\"Cumulative Distribution Graph of GRADES\")\n",
    "plt.xlabel(\"Fig 6: Grades of Final Exam\")\n",
    "plt.ylabel(\"Cumulative Probability\")"
   ]
  },
  {
   "cell_type": "markdown",
   "id": "dfd98a2c",
   "metadata": {},
   "source": [
    "From the graph Fig 7, we can clearly see that more than 80% of the students have secured grades between 65 and 87, which is 0.8013 portion"
   ]
  },
  {
   "cell_type": "markdown",
   "id": "6a9a8761",
   "metadata": {},
   "source": [
    "Hence the probability that a randomly chosen student gets a grade between 65 and 87 is 80.13%"
   ]
  },
  {
   "cell_type": "markdown",
   "id": "329894cd",
   "metadata": {},
   "source": [
    "#### 4.3 What should be the passing cut-off so that 75% of the students clear the exam?"
   ]
  },
  {
   "cell_type": "code",
   "execution_count": 110,
   "id": "27f56718",
   "metadata": {},
   "outputs": [],
   "source": [
    "#Let the Passing cut-off marks be M. P(X ≥ M) = 75% => 1 – P(X < M) = 0.75 => P(X < M) = 0.25 \n",
    "#To calculate this we will use the percent point function i.e ppf.\n",
    "\n",
    "cutoff = stats.norm.ppf(0.25, loc=mean, scale=standev)"
   ]
  },
  {
   "cell_type": "code",
   "execution_count": 111,
   "id": "35608a37",
   "metadata": {},
   "outputs": [
    {
     "name": "stdout",
     "output_type": "stream",
     "text": [
      "71.27 should be the passing Cut-off so that 75% of the students clear the exam\n"
     ]
    }
   ],
   "source": [
    "print (round(cutoff, 2), \"should be the passing Cut-off so that 75% of the students clear the exam\")"
   ]
  },
  {
   "cell_type": "markdown",
   "id": "f94cf386",
   "metadata": {},
   "source": [
    "### Q5. Zingaro stone printing is a company that specializes in printing images or patterns on polished or unpolished stones. However, for the optimum level of printing of the image the stone surface has to have a Brinell's hardness index of at least 150. Recently, Zingaro has received a batch of polished and unpolished stones from its clients. Use the data provided to answer the following (assuming a 5% significance level);"
   ]
  },
  {
   "cell_type": "markdown",
   "id": "bfe8bbd2",
   "metadata": {},
   "source": [
    "#### 5.1 Earlier experience of Zingaro with this particular client is favorable as the stone surface was found to be of adequate hardness. However, Zingaro has reason to believe now that the unpolished stones may not be suitable for printing. Do you think Zingaro is justified in thinking so?"
   ]
  },
  {
   "cell_type": "code",
   "execution_count": 112,
   "id": "d4254792",
   "metadata": {},
   "outputs": [
    {
     "data": {
      "text/html": [
       "<div>\n",
       "<style scoped>\n",
       "    .dataframe tbody tr th:only-of-type {\n",
       "        vertical-align: middle;\n",
       "    }\n",
       "\n",
       "    .dataframe tbody tr th {\n",
       "        vertical-align: top;\n",
       "    }\n",
       "\n",
       "    .dataframe thead th {\n",
       "        text-align: right;\n",
       "    }\n",
       "</style>\n",
       "<table border=\"1\" class=\"dataframe\">\n",
       "  <thead>\n",
       "    <tr style=\"text-align: right;\">\n",
       "      <th></th>\n",
       "      <th>Unpolished</th>\n",
       "      <th>Treated and Polished</th>\n",
       "    </tr>\n",
       "  </thead>\n",
       "  <tbody>\n",
       "    <tr>\n",
       "      <th>0</th>\n",
       "      <td>164.481713</td>\n",
       "      <td>133.209393</td>\n",
       "    </tr>\n",
       "    <tr>\n",
       "      <th>1</th>\n",
       "      <td>154.307045</td>\n",
       "      <td>138.482771</td>\n",
       "    </tr>\n",
       "    <tr>\n",
       "      <th>2</th>\n",
       "      <td>129.861048</td>\n",
       "      <td>159.665201</td>\n",
       "    </tr>\n",
       "    <tr>\n",
       "      <th>3</th>\n",
       "      <td>159.096184</td>\n",
       "      <td>145.663528</td>\n",
       "    </tr>\n",
       "    <tr>\n",
       "      <th>4</th>\n",
       "      <td>135.256748</td>\n",
       "      <td>136.789227</td>\n",
       "    </tr>\n",
       "  </tbody>\n",
       "</table>\n",
       "</div>"
      ],
      "text/plain": [
       "   Unpolished   Treated and Polished\n",
       "0   164.481713            133.209393\n",
       "1   154.307045            138.482771\n",
       "2   129.861048            159.665201\n",
       "3   159.096184            145.663528\n",
       "4   135.256748            136.789227"
      ]
     },
     "execution_count": 112,
     "metadata": {},
     "output_type": "execute_result"
    }
   ],
   "source": [
    "#loading the dataset recieved by Zingaro by its client\n",
    "zing = pd.read_csv('Zingaro_Company.csv')\n",
    "zing.head()"
   ]
  },
  {
   "cell_type": "code",
   "execution_count": 113,
   "id": "625d45b7",
   "metadata": {},
   "outputs": [
    {
     "data": {
      "text/plain": [
       "Unpolished              0\n",
       "Treated and Polished    0\n",
       "dtype: int64"
      ]
     },
     "execution_count": 113,
     "metadata": {},
     "output_type": "execute_result"
    }
   ],
   "source": [
    "#checking for any null entries in the data set\n",
    "zing.isnull().sum()"
   ]
  },
  {
   "cell_type": "code",
   "execution_count": 114,
   "id": "b8f70528",
   "metadata": {},
   "outputs": [
    {
     "name": "stdout",
     "output_type": "stream",
     "text": [
      "<class 'pandas.core.frame.DataFrame'>\n",
      "RangeIndex: 75 entries, 0 to 74\n",
      "Data columns (total 2 columns):\n",
      " #   Column                Non-Null Count  Dtype  \n",
      "---  ------                --------------  -----  \n",
      " 0   Unpolished            75 non-null     float64\n",
      " 1   Treated and Polished  75 non-null     float64\n",
      "dtypes: float64(2)\n",
      "memory usage: 1.3 KB\n"
     ]
    }
   ],
   "source": [
    "zing.info()"
   ]
  },
  {
   "cell_type": "markdown",
   "id": "249a5686",
   "metadata": {},
   "source": [
    " - #### 1. State Null & Alternative Hypothesis"
   ]
  },
  {
   "cell_type": "markdown",
   "id": "8286eae5",
   "metadata": {},
   "source": [
    "Zingaro believes that unpolished stones may not be suitable for printing, which means Brinell's Hardness index is ! >= 150, So, Let:\n",
    "$\\mu = Brinell's Hardness index$\n",
    "\n",
    "Null Hypothesis:\n",
    ">$H_0: \\mu>=150$\n",
    "\n",
    "Alternative Hypothesis:\n",
    ">$H_1: \\mu!>= 150$"
   ]
  },
  {
   "cell_type": "markdown",
   "id": "51a121f3",
   "metadata": {},
   "source": [
    " - #### Decide Significance Level"
   ]
  },
  {
   "cell_type": "markdown",
   "id": "19f0d72e",
   "metadata": {},
   "source": [
    "We have been given Significance Level that \n",
    "\n",
    "$ \\alpha = 0.5$"
   ]
  },
  {
   "cell_type": "markdown",
   "id": "b2e25d28",
   "metadata": {},
   "source": [
    " - #### Identification of the Test"
   ]
  },
  {
   "cell_type": "markdown",
   "id": "6d0016e8",
   "metadata": {},
   "source": [
    "We have to test for only Unpolished samples and we do not know the Population standard deviation, Hence we will be conducting the one sample test."
   ]
  },
  {
   "cell_type": "markdown",
   "id": "29e59d00",
   "metadata": {},
   "source": [
    " - #### Calculate the p-value and the test_Statistics"
   ]
  },
  {
   "cell_type": "markdown",
   "id": "cf482fee",
   "metadata": {},
   "source": [
    "We will be using stats.ttest_1samp to calculate the test statistics for the given UnPolished. This function will return test statistics and p-value value"
   ]
  },
  {
   "cell_type": "code",
   "execution_count": 115,
   "id": "ab4a1a08",
   "metadata": {},
   "outputs": [
    {
     "name": "stdout",
     "output_type": "stream",
     "text": [
      "Test_stats: -4.164629601426758\n",
      "P_value: 8.342573994839285e-05\n"
     ]
    }
   ],
   "source": [
    "#conducting one sample t-test as both the variable are independent, \n",
    "#taking population mean as 150 as its been mentioned for optimum level\n",
    "t_stats, p_value = stats.ttest_1samp(zing['Unpolished '], 150)\n",
    "print ('Test_stats:', t_stats)\n",
    "print ('P_value:', p_value)"
   ]
  },
  {
   "cell_type": "markdown",
   "id": "67a34b13",
   "metadata": {},
   "source": [
    " - #### Conclusion / Check P-Value with Significance Level"
   ]
  },
  {
   "cell_type": "code",
   "execution_count": 116,
   "id": "79537c35",
   "metadata": {},
   "outputs": [
    {
     "name": "stdout",
     "output_type": "stream",
     "text": [
      "Accept Alternative Hypothesis: Brinell's Hardness index is !>=150\n"
     ]
    }
   ],
   "source": [
    "#checking with the theory that p>alpha - Fail to reject the Null Hypothesis & p<alpha - reject the Null hypothesis\n",
    "if (p_value > 0.5):\n",
    "    print (\"Accept Null Hypothesis: Brinell's Harness is >=150\")\n",
    "elif(p_value < 0.5):\n",
    "    print (\"Accept Alternative Hypothesis: Brinell's Hardness index is !>=150\")"
   ]
  },
  {
   "cell_type": "markdown",
   "id": "ac2fb2cf",
   "metadata": {},
   "source": [
    "On the basis of calculated p_value: p-value <<< 0.05, so we have strong evidence to accept Alternative Hypothesis. Unpolished stones does not have a Brinell's Hardness index of atleast 150. So we can conclude by saying that Zingaro's STATEMENT IS CORRECT"
   ]
  },
  {
   "cell_type": "markdown",
   "id": "51c4138e",
   "metadata": {},
   "source": [
    "#### 5.2 Is the mean hardness of the polished and unpolished stones the same?"
   ]
  },
  {
   "cell_type": "markdown",
   "id": "8f402910",
   "metadata": {},
   "source": [
    " - #### 1. State Null & Alternative Hypothesis"
   ]
  },
  {
   "cell_type": "markdown",
   "id": "d439717f",
   "metadata": {},
   "source": [
    "Mean hardness of the Polished and unpolished stones are same or not,\n",
    "\n",
    "Null Hypothesis:\n",
    ">$H_0: \\mu_1 = \\mu_2$\n",
    "\n",
    "Alternative Hypothesis:\n",
    ">$H_1: \\mu_1 \\neq \\mu_2$"
   ]
  },
  {
   "cell_type": "markdown",
   "id": "fdc0e273",
   "metadata": {},
   "source": [
    " - #### Decide Significance Level"
   ]
  },
  {
   "cell_type": "markdown",
   "id": "79db9c63",
   "metadata": {},
   "source": [
    "We have been given Significance Level that \n",
    "\n",
    "$ \\alpha = 0.5$"
   ]
  },
  {
   "cell_type": "markdown",
   "id": "019562f7",
   "metadata": {},
   "source": [
    " - #### Identification of the Test"
   ]
  },
  {
   "cell_type": "markdown",
   "id": "36f156fa",
   "metadata": {},
   "source": [
    "   - We have two samples and we do not know the Population standard deviation\n",
    "   - Sample size for both the samples are same\n",
    "   - Both the sample are independent variables"
   ]
  },
  {
   "cell_type": "markdown",
   "id": "9e08e6bb",
   "metadata": {},
   "source": [
    " - #### Calculate the p-value and the test_Statistics"
   ]
  },
  {
   "cell_type": "markdown",
   "id": "d2c7ff87",
   "metadata": {},
   "source": [
    "We will be using stats.ttest_ind to calculate the test statistics for the given UnPolished & Treated_Polished stones. This function will return test statistics and p-value"
   ]
  },
  {
   "cell_type": "code",
   "execution_count": 117,
   "id": "a4d9c7e4",
   "metadata": {},
   "outputs": [
    {
     "name": "stdout",
     "output_type": "stream",
     "text": [
      "Test_stats: -3.242232050141406\n",
      "P_value: 0.001465515019462831\n"
     ]
    }
   ],
   "source": [
    "#conducting two sample t-test as both the variable are independent, \n",
    "t_stats, p_value = stats.ttest_ind(zing['Unpolished '], zing['Treated and Polished'])\n",
    "print ('Test_stats:', t_stats)\n",
    "print ('P_value:', p_value)"
   ]
  },
  {
   "cell_type": "markdown",
   "id": "8ccc4985",
   "metadata": {},
   "source": [
    " - #### Checking the mean value & comparing the confidence on our statement from the p-value and the test_Statistics"
   ]
  },
  {
   "cell_type": "code",
   "execution_count": 118,
   "id": "862b5a8d",
   "metadata": {},
   "outputs": [
    {
     "name": "stdout",
     "output_type": "stream",
     "text": [
      "Mean of Zing Unpolished stones: 134.11\n"
     ]
    }
   ],
   "source": [
    "print ('Mean of Zing Unpolished stones:', round(zing['Unpolished '].mean(),2))"
   ]
  },
  {
   "cell_type": "code",
   "execution_count": 119,
   "id": "27f50397",
   "metadata": {},
   "outputs": [
    {
     "name": "stdout",
     "output_type": "stream",
     "text": [
      "Mean of Zing Polished stones: 147.79\n"
     ]
    }
   ],
   "source": [
    "print ('Mean of Zing Polished stones:', round(zing['Treated and Polished'].mean(),2))"
   ]
  },
  {
   "cell_type": "code",
   "execution_count": 120,
   "id": "ed72a7d0",
   "metadata": {},
   "outputs": [
    {
     "name": "stdout",
     "output_type": "stream",
     "text": [
      "Reject Null Hypothesis\n"
     ]
    }
   ],
   "source": [
    "if (p_value > 0.5):\n",
    "    print (\"Accept Null Hypothesis\")\n",
    "elif(p_value < 0.5):\n",
    "    print (\"Reject Null Hypothesis\")"
   ]
  },
  {
   "cell_type": "markdown",
   "id": "a0a9bf41",
   "metadata": {},
   "source": [
    "Hence, we have evidence (p_value(0.001)< 0.05) to Reject Null Hypothesis and conclude that Mean of Unpolished Stones is not equal to Mean of Polished Stones with 95% confidence level"
   ]
  },
  {
   "cell_type": "markdown",
   "id": "813fc116",
   "metadata": {},
   "source": [
    "### Q6. Aquarius health club, one of the largest and most popular cross-fit gyms in the country has been advertising a rigorous program for body conditioning. The program is considered successful if the candidate is able to do more than 5 push-ups, as compared to when he/she enrolled in the program. Using the sample data provided can you conclude whether the program is successful? (Consider the level of Significance as 5%).\n",
    "##### Note that this is a problem of the paired-t-test. Since the claim is that the training will make a difference of more than 5, the null and alternative hypotheses must be formed accordingly."
   ]
  },
  {
   "cell_type": "code",
   "execution_count": 121,
   "id": "d73e1b79",
   "metadata": {},
   "outputs": [
    {
     "data": {
      "text/html": [
       "<div>\n",
       "<style scoped>\n",
       "    .dataframe tbody tr th:only-of-type {\n",
       "        vertical-align: middle;\n",
       "    }\n",
       "\n",
       "    .dataframe tbody tr th {\n",
       "        vertical-align: top;\n",
       "    }\n",
       "\n",
       "    .dataframe thead th {\n",
       "        text-align: right;\n",
       "    }\n",
       "</style>\n",
       "<table border=\"1\" class=\"dataframe\">\n",
       "  <thead>\n",
       "    <tr style=\"text-align: right;\">\n",
       "      <th></th>\n",
       "      <th>Sr no.</th>\n",
       "      <th>Before</th>\n",
       "      <th>After</th>\n",
       "    </tr>\n",
       "  </thead>\n",
       "  <tbody>\n",
       "    <tr>\n",
       "      <th>0</th>\n",
       "      <td>1</td>\n",
       "      <td>39</td>\n",
       "      <td>44</td>\n",
       "    </tr>\n",
       "    <tr>\n",
       "      <th>1</th>\n",
       "      <td>2</td>\n",
       "      <td>25</td>\n",
       "      <td>25</td>\n",
       "    </tr>\n",
       "    <tr>\n",
       "      <th>2</th>\n",
       "      <td>3</td>\n",
       "      <td>39</td>\n",
       "      <td>39</td>\n",
       "    </tr>\n",
       "    <tr>\n",
       "      <th>3</th>\n",
       "      <td>4</td>\n",
       "      <td>6</td>\n",
       "      <td>13</td>\n",
       "    </tr>\n",
       "    <tr>\n",
       "      <th>4</th>\n",
       "      <td>5</td>\n",
       "      <td>40</td>\n",
       "      <td>44</td>\n",
       "    </tr>\n",
       "  </tbody>\n",
       "</table>\n",
       "</div>"
      ],
      "text/plain": [
       "   Sr no.  Before  After\n",
       "0       1      39     44\n",
       "1       2      25     25\n",
       "2       3      39     39\n",
       "3       4       6     13\n",
       "4       5      40     44"
      ]
     },
     "execution_count": 121,
     "metadata": {},
     "output_type": "execute_result"
    }
   ],
   "source": [
    "#loading the dataset of Aquarius health club\n",
    "aqua = pd.read_csv('Aquarius_gym.csv')\n",
    "aqua.head()"
   ]
  },
  {
   "cell_type": "code",
   "execution_count": 122,
   "id": "38fa77e8",
   "metadata": {},
   "outputs": [
    {
     "name": "stdout",
     "output_type": "stream",
     "text": [
      "<class 'pandas.core.frame.DataFrame'>\n",
      "RangeIndex: 100 entries, 0 to 99\n",
      "Data columns (total 3 columns):\n",
      " #   Column  Non-Null Count  Dtype\n",
      "---  ------  --------------  -----\n",
      " 0   Sr no.  100 non-null    int64\n",
      " 1   Before  100 non-null    int64\n",
      " 2   After   100 non-null    int64\n",
      "dtypes: int64(3)\n",
      "memory usage: 2.5 KB\n"
     ]
    }
   ],
   "source": [
    "#checking the sample size of both the variables.\n",
    "aqua.info()"
   ]
  },
  {
   "cell_type": "markdown",
   "id": "41382879",
   "metadata": {},
   "source": [
    " - #### 1. State Null & Alternative Hypothesis"
   ]
  },
  {
   "cell_type": "markdown",
   "id": "c6709c86",
   "metadata": {},
   "source": [
    "Let us consider, Pushup_2 as he/she can do pushup after enrollment whereas Pushup_1 as he/she can do pushup before the enrollment.\n",
    "\n",
    "Null Hypothesis:\n",
    ">$H_0: Pushup_2 - Pushup_1 <= 5$\n",
    "\n",
    "Alternative Hypothesis:\n",
    ">$H_1: Pushup2 - Pushup_1 >5$"
   ]
  },
  {
   "cell_type": "markdown",
   "id": "0ec4f099",
   "metadata": {},
   "source": [
    "- #### Decide Significance Level"
   ]
  },
  {
   "cell_type": "markdown",
   "id": "92c73319",
   "metadata": {},
   "source": [
    "We have been given Significance Level that \n",
    "\n",
    "$ \\alpha = 0.5$"
   ]
  },
  {
   "cell_type": "markdown",
   "id": "b8b06cc1",
   "metadata": {},
   "source": [
    " - #### Identification of the Test"
   ]
  },
  {
   "cell_type": "markdown",
   "id": "5a8fb194",
   "metadata": {},
   "source": [
    "   We have two samples and both the variables are dependent on each other, we will conduct PAIRED T-TEST"
   ]
  },
  {
   "cell_type": "markdown",
   "id": "37d424e4",
   "metadata": {},
   "source": [
    " - #### Calculate the p-value and the test_Statistics"
   ]
  },
  {
   "cell_type": "code",
   "execution_count": 123,
   "id": "0ad20cb9",
   "metadata": {},
   "outputs": [
    {
     "name": "stdout",
     "output_type": "stream",
     "text": [
      "Test_stats: -19.322619811082458\n",
      "P_value: 2.2920419252511966e-35\n"
     ]
    }
   ],
   "source": [
    "#conducting paired t-test as the samples are dependent.\n",
    "t_stats1, p_value1 = stats.ttest_rel(aqua['Before'], aqua['After'])\n",
    "print ('Test_stats:', t_stats1)\n",
    "print ('P_value:', p_value1)"
   ]
  },
  {
   "cell_type": "markdown",
   "id": "cdd4b730",
   "metadata": {},
   "source": [
    " - #### Conclusion / Check P-Value with Significance Level"
   ]
  },
  {
   "cell_type": "code",
   "execution_count": 124,
   "id": "13010987",
   "metadata": {},
   "outputs": [
    {
     "name": "stdout",
     "output_type": "stream",
     "text": [
      "Reject the Null Hypothesis or Accept the Alternative Hypothesis\n"
     ]
    }
   ],
   "source": [
    "#checking with the theory that p>alpha - Fail to reject the Null Hypothesis & p<alpha - reject the Null hypothesis\n",
    "if (p_value1 > 0.5):\n",
    "    print (\"Failed to Reject Null Hypothesis\")\n",
    "elif(p_value1 < 0.5):\n",
    "    print (\"Reject the Null Hypothesis or Accept the Alternative Hypothesis\")"
   ]
  },
  {
   "cell_type": "markdown",
   "id": "56345a1f",
   "metadata": {},
   "source": [
    "On the basis of calculated p_value which is almost negligible: p(2.292e-35) << 0.05, so Null Hypothesis is rejected and Alternative Hypothesis is accepted here. \n",
    "Hence, Candidates are able to do more than 5 pushups as compared to when he/she enrolled in the program. Thus we can conclude by stating that PROGRAM IS SUCCESSFULL"
   ]
  },
  {
   "cell_type": "markdown",
   "id": "289fcf18",
   "metadata": {},
   "source": [
    "### Q7. Dental implant data: The hardness of metal implant in dental cavities depends on multiple factors, such as the method of implant, the temperature at which the metal is treated, the alloy used as well as on the dentists who may favour one method above another and may work better in his/her favourite method. The response is the variable of interest."
   ]
  },
  {
   "cell_type": "markdown",
   "id": "bf42b390",
   "metadata": {},
   "source": [
    "#### 7.1 Test whether there is any difference among the dentists on the implant hardness. State the null and alternative hypotheses. Note that both types of alloys cannot be considered together. You must state the null and alternative hypotheses separately for the two types of alloys.?"
   ]
  },
  {
   "cell_type": "code",
   "execution_count": 125,
   "id": "02032718",
   "metadata": {},
   "outputs": [],
   "source": [
    "#importing anova libuaries\n",
    "from statsmodels.formula.api import ols    #for performing n-way anova\n",
    "from statsmodels.stats.anova import _get_covariance, anova_lm  # for performing n-way anova"
   ]
  },
  {
   "cell_type": "code",
   "execution_count": 126,
   "id": "886b4613",
   "metadata": {},
   "outputs": [
    {
     "data": {
      "text/html": [
       "<div>\n",
       "<style scoped>\n",
       "    .dataframe tbody tr th:only-of-type {\n",
       "        vertical-align: middle;\n",
       "    }\n",
       "\n",
       "    .dataframe tbody tr th {\n",
       "        vertical-align: top;\n",
       "    }\n",
       "\n",
       "    .dataframe thead th {\n",
       "        text-align: right;\n",
       "    }\n",
       "</style>\n",
       "<table border=\"1\" class=\"dataframe\">\n",
       "  <thead>\n",
       "    <tr style=\"text-align: right;\">\n",
       "      <th></th>\n",
       "      <th>Dentist</th>\n",
       "      <th>Method</th>\n",
       "      <th>Alloy</th>\n",
       "      <th>Temp</th>\n",
       "      <th>Response</th>\n",
       "    </tr>\n",
       "  </thead>\n",
       "  <tbody>\n",
       "    <tr>\n",
       "      <th>0</th>\n",
       "      <td>1</td>\n",
       "      <td>1</td>\n",
       "      <td>1</td>\n",
       "      <td>1500</td>\n",
       "      <td>813</td>\n",
       "    </tr>\n",
       "    <tr>\n",
       "      <th>1</th>\n",
       "      <td>1</td>\n",
       "      <td>1</td>\n",
       "      <td>1</td>\n",
       "      <td>1600</td>\n",
       "      <td>792</td>\n",
       "    </tr>\n",
       "    <tr>\n",
       "      <th>2</th>\n",
       "      <td>1</td>\n",
       "      <td>1</td>\n",
       "      <td>1</td>\n",
       "      <td>1700</td>\n",
       "      <td>792</td>\n",
       "    </tr>\n",
       "    <tr>\n",
       "      <th>3</th>\n",
       "      <td>1</td>\n",
       "      <td>1</td>\n",
       "      <td>2</td>\n",
       "      <td>1500</td>\n",
       "      <td>907</td>\n",
       "    </tr>\n",
       "    <tr>\n",
       "      <th>4</th>\n",
       "      <td>1</td>\n",
       "      <td>1</td>\n",
       "      <td>2</td>\n",
       "      <td>1600</td>\n",
       "      <td>792</td>\n",
       "    </tr>\n",
       "  </tbody>\n",
       "</table>\n",
       "</div>"
      ],
      "text/plain": [
       "   Dentist  Method  Alloy  Temp  Response\n",
       "0        1       1      1  1500       813\n",
       "1        1       1      1  1600       792\n",
       "2        1       1      1  1700       792\n",
       "3        1       1      2  1500       907\n",
       "4        1       1      2  1600       792"
      ]
     },
     "execution_count": 126,
     "metadata": {},
     "output_type": "execute_result"
    }
   ],
   "source": [
    "##as the excel data sheet contains different tabs/sheets, we have to copy the data to a seperate csv & then import as a dataset\n",
    "dent = pd.read_csv('Dental Hardness.csv')\n",
    "dent.head()"
   ]
  },
  {
   "cell_type": "code",
   "execution_count": 127,
   "id": "668c552f",
   "metadata": {},
   "outputs": [
    {
     "data": {
      "text/plain": [
       "Dentist     0\n",
       "Method      0\n",
       "Alloy       0\n",
       "Temp        0\n",
       "Response    0\n",
       "dtype: int64"
      ]
     },
     "execution_count": 127,
     "metadata": {},
     "output_type": "execute_result"
    }
   ],
   "source": [
    "#checking for null values in the dataset\n",
    "dent.isnull().sum()"
   ]
  },
  {
   "cell_type": "code",
   "execution_count": 128,
   "id": "a2393202",
   "metadata": {},
   "outputs": [
    {
     "data": {
      "text/plain": [
       "(90, 5)"
      ]
     },
     "execution_count": 128,
     "metadata": {},
     "output_type": "execute_result"
    }
   ],
   "source": [
    "#checking the total sample size of the dataset in rows & columns\n",
    "dent.shape"
   ]
  },
  {
   "cell_type": "code",
   "execution_count": 129,
   "id": "de9cd154",
   "metadata": {},
   "outputs": [
    {
     "data": {
      "text/html": [
       "<div>\n",
       "<style scoped>\n",
       "    .dataframe tbody tr th:only-of-type {\n",
       "        vertical-align: middle;\n",
       "    }\n",
       "\n",
       "    .dataframe tbody tr th {\n",
       "        vertical-align: top;\n",
       "    }\n",
       "\n",
       "    .dataframe thead th {\n",
       "        text-align: right;\n",
       "    }\n",
       "</style>\n",
       "<table border=\"1\" class=\"dataframe\">\n",
       "  <thead>\n",
       "    <tr style=\"text-align: right;\">\n",
       "      <th></th>\n",
       "      <th>Dentist</th>\n",
       "      <th>Method</th>\n",
       "      <th>Alloy</th>\n",
       "      <th>Temp</th>\n",
       "      <th>Response</th>\n",
       "    </tr>\n",
       "  </thead>\n",
       "  <tbody>\n",
       "    <tr>\n",
       "      <th>count</th>\n",
       "      <td>90.000000</td>\n",
       "      <td>90.000000</td>\n",
       "      <td>90.000000</td>\n",
       "      <td>90.000000</td>\n",
       "      <td>90.000000</td>\n",
       "    </tr>\n",
       "    <tr>\n",
       "      <th>mean</th>\n",
       "      <td>3.000000</td>\n",
       "      <td>2.000000</td>\n",
       "      <td>1.500000</td>\n",
       "      <td>1600.000000</td>\n",
       "      <td>741.777778</td>\n",
       "    </tr>\n",
       "    <tr>\n",
       "      <th>std</th>\n",
       "      <td>1.422136</td>\n",
       "      <td>0.821071</td>\n",
       "      <td>0.502801</td>\n",
       "      <td>82.107083</td>\n",
       "      <td>145.767845</td>\n",
       "    </tr>\n",
       "    <tr>\n",
       "      <th>min</th>\n",
       "      <td>1.000000</td>\n",
       "      <td>1.000000</td>\n",
       "      <td>1.000000</td>\n",
       "      <td>1500.000000</td>\n",
       "      <td>289.000000</td>\n",
       "    </tr>\n",
       "    <tr>\n",
       "      <th>25%</th>\n",
       "      <td>2.000000</td>\n",
       "      <td>1.000000</td>\n",
       "      <td>1.000000</td>\n",
       "      <td>1500.000000</td>\n",
       "      <td>698.000000</td>\n",
       "    </tr>\n",
       "    <tr>\n",
       "      <th>50%</th>\n",
       "      <td>3.000000</td>\n",
       "      <td>2.000000</td>\n",
       "      <td>1.500000</td>\n",
       "      <td>1600.000000</td>\n",
       "      <td>767.000000</td>\n",
       "    </tr>\n",
       "    <tr>\n",
       "      <th>75%</th>\n",
       "      <td>4.000000</td>\n",
       "      <td>3.000000</td>\n",
       "      <td>2.000000</td>\n",
       "      <td>1700.000000</td>\n",
       "      <td>824.000000</td>\n",
       "    </tr>\n",
       "    <tr>\n",
       "      <th>max</th>\n",
       "      <td>5.000000</td>\n",
       "      <td>3.000000</td>\n",
       "      <td>2.000000</td>\n",
       "      <td>1700.000000</td>\n",
       "      <td>1115.000000</td>\n",
       "    </tr>\n",
       "  </tbody>\n",
       "</table>\n",
       "</div>"
      ],
      "text/plain": [
       "         Dentist     Method      Alloy         Temp     Response\n",
       "count  90.000000  90.000000  90.000000    90.000000    90.000000\n",
       "mean    3.000000   2.000000   1.500000  1600.000000   741.777778\n",
       "std     1.422136   0.821071   0.502801    82.107083   145.767845\n",
       "min     1.000000   1.000000   1.000000  1500.000000   289.000000\n",
       "25%     2.000000   1.000000   1.000000  1500.000000   698.000000\n",
       "50%     3.000000   2.000000   1.500000  1600.000000   767.000000\n",
       "75%     4.000000   3.000000   2.000000  1700.000000   824.000000\n",
       "max     5.000000   3.000000   2.000000  1700.000000  1115.000000"
      ]
     },
     "execution_count": 129,
     "metadata": {},
     "output_type": "execute_result"
    }
   ],
   "source": [
    "dent.describe()"
   ]
  },
  {
   "cell_type": "code",
   "execution_count": 130,
   "id": "93b7299c",
   "metadata": {},
   "outputs": [],
   "source": [
    "dent_c = dent.copy()"
   ]
  },
  {
   "cell_type": "code",
   "execution_count": 131,
   "id": "ab89b55c",
   "metadata": {},
   "outputs": [],
   "source": [
    "#changing the datatype of Dentist from int64 to Categorical\n",
    "dent.Dentist=pd.Categorical(dent.Dentist)"
   ]
  },
  {
   "cell_type": "markdown",
   "id": "f346f1fa",
   "metadata": {},
   "source": [
    " - ####  As we have to seperately state the Hypothesis, we have to separate the dataframe by types of alloys"
   ]
  },
  {
   "cell_type": "markdown",
   "id": "26786575",
   "metadata": {},
   "source": [
    "As there are two types of Alloys. Alloy of Category 1 & Alloy of Category 2, We have to seperate both the Alloy type."
   ]
  },
  {
   "cell_type": "code",
   "execution_count": 132,
   "id": "01d25f4d",
   "metadata": {},
   "outputs": [],
   "source": [
    "#seperating the two types of Alloy\n",
    "dent_alloy1 = dent[dent['Alloy']<2]\n",
    "dent_alloy2 = dent[dent['Alloy']>1]"
   ]
  },
  {
   "cell_type": "code",
   "execution_count": 133,
   "id": "06523e0c",
   "metadata": {},
   "outputs": [
    {
     "name": "stderr",
     "output_type": "stream",
     "text": [
      "C:\\Users\\SL-LAP-1513-NEW\\AppData\\Local\\Temp\\ipykernel_6164\\1213385299.py:2: SettingWithCopyWarning: \n",
      "A value is trying to be set on a copy of a slice from a DataFrame.\n",
      "Try using .loc[row_indexer,col_indexer] = value instead\n",
      "\n",
      "See the caveats in the documentation: https://pandas.pydata.org/pandas-docs/stable/user_guide/indexing.html#returning-a-view-versus-a-copy\n",
      "  dent_alloy1.Alloy=pd.Categorical(dent_alloy1.Alloy)\n",
      "C:\\Users\\SL-LAP-1513-NEW\\AppData\\Local\\Temp\\ipykernel_6164\\1213385299.py:3: SettingWithCopyWarning: \n",
      "A value is trying to be set on a copy of a slice from a DataFrame.\n",
      "Try using .loc[row_indexer,col_indexer] = value instead\n",
      "\n",
      "See the caveats in the documentation: https://pandas.pydata.org/pandas-docs/stable/user_guide/indexing.html#returning-a-view-versus-a-copy\n",
      "  dent_alloy2.Alloy=pd.Categorical(dent_alloy2.Alloy)\n"
     ]
    }
   ],
   "source": [
    "#changing the datatype of Alloy(type 1) & Alloy (Type 2) from int64 to Categorical\n",
    "dent_alloy1.Alloy=pd.Categorical(dent_alloy1.Alloy)\n",
    "dent_alloy2.Alloy=pd.Categorical(dent_alloy2.Alloy)"
   ]
  },
  {
   "cell_type": "code",
   "execution_count": 134,
   "id": "c21c1179",
   "metadata": {},
   "outputs": [
    {
     "name": "stdout",
     "output_type": "stream",
     "text": [
      "<class 'pandas.core.frame.DataFrame'>\n",
      "Int64Index: 45 entries, 0 to 86\n",
      "Data columns (total 5 columns):\n",
      " #   Column    Non-Null Count  Dtype   \n",
      "---  ------    --------------  -----   \n",
      " 0   Dentist   45 non-null     category\n",
      " 1   Method    45 non-null     int64   \n",
      " 2   Alloy     45 non-null     category\n",
      " 3   Temp      45 non-null     int64   \n",
      " 4   Response  45 non-null     int64   \n",
      "dtypes: category(2), int64(3)\n",
      "memory usage: 1.8 KB\n"
     ]
    }
   ],
   "source": [
    "#checking the new data type for Alloy 1\n",
    "dent_alloy1.info()"
   ]
  },
  {
   "cell_type": "code",
   "execution_count": 135,
   "id": "d24bbdd3",
   "metadata": {},
   "outputs": [
    {
     "name": "stdout",
     "output_type": "stream",
     "text": [
      "<class 'pandas.core.frame.DataFrame'>\n",
      "Int64Index: 45 entries, 3 to 89\n",
      "Data columns (total 5 columns):\n",
      " #   Column    Non-Null Count  Dtype   \n",
      "---  ------    --------------  -----   \n",
      " 0   Dentist   45 non-null     category\n",
      " 1   Method    45 non-null     int64   \n",
      " 2   Alloy     45 non-null     category\n",
      " 3   Temp      45 non-null     int64   \n",
      " 4   Response  45 non-null     int64   \n",
      "dtypes: category(2), int64(3)\n",
      "memory usage: 1.8 KB\n"
     ]
    }
   ],
   "source": [
    "#checking the new data type for Alloy 2\n",
    "dent_alloy2.info()"
   ]
  },
  {
   "cell_type": "markdown",
   "id": "6086b3a2",
   "metadata": {},
   "source": [
    " - #### ALLOY TYPE 1:\n",
    "    \n",
    "    - Null Hypothesis:\n",
    "    >$H_0: Implant Hardness For Different Dentist Are Same$\n",
    "\n",
    "    - Alternative Hypothesis:\n",
    "    >$H_1: Implane Hardness For Different Dentist Are Not Same$"
   ]
  },
  {
   "cell_type": "code",
   "execution_count": 136,
   "id": "71c40015",
   "metadata": {},
   "outputs": [
    {
     "name": "stdout",
     "output_type": "stream",
     "text": [
      "              df         sum_sq       mean_sq         F    PR(>F)\n",
      "C(Dentist)   4.0  106683.688889  26670.922222  1.977112  0.116567\n",
      "Residual    40.0  539593.555556  13489.838889       NaN       NaN\n"
     ]
    }
   ],
   "source": [
    "#model for Alloy 1\n",
    "formula = 'Response ~ C(Dentist)'\n",
    "model = ols(formula, dent_alloy1).fit()\n",
    "aov_table = anova_lm(model)\n",
    "print(aov_table)"
   ]
  },
  {
   "cell_type": "markdown",
   "id": "98a72463",
   "metadata": {},
   "source": [
    "Since the PR(>F) is 0.116567 which is greater than Significance Level(alpha) 0.05,\n",
    "We fail to Reject the Null Hypothesis."
   ]
  },
  {
   "cell_type": "markdown",
   "id": "9182b979",
   "metadata": {},
   "source": [
    " - #### ALLOY TYPE 2:\n",
    "    \n",
    "    - Null Hypothesis:\n",
    "    >$H_0: Implant Hardness For Different Dentist Are Same$\n",
    "\n",
    "    - Alternative Hypothesis:\n",
    "    >$H_1: Implane Hardness For Different Dentist Are Not Same$"
   ]
  },
  {
   "cell_type": "code",
   "execution_count": 137,
   "id": "2440c680",
   "metadata": {},
   "outputs": [
    {
     "name": "stdout",
     "output_type": "stream",
     "text": [
      "              df        sum_sq       mean_sq         F    PR(>F)\n",
      "C(Dentist)   4.0  5.679791e+04  14199.477778  0.524835  0.718031\n",
      "Residual    40.0  1.082205e+06  27055.122222       NaN       NaN\n"
     ]
    }
   ],
   "source": [
    "#model for Alloy 2\n",
    "formula = 'Response ~ C(Dentist)'\n",
    "model = ols(formula, dent_alloy2).fit()\n",
    "aov_table = anova_lm(model)\n",
    "print(aov_table)"
   ]
  },
  {
   "cell_type": "markdown",
   "id": "f9c91a77",
   "metadata": {},
   "source": [
    "   - From the Anova Table; since the PR(>F) is 0.718031 which is greater than Significance Level(alpha) 0.05,\n",
    "   - We fail to Reject the Null Hypothesis."
   ]
  },
  {
   "cell_type": "markdown",
   "id": "e1692320",
   "metadata": {},
   "source": [
    "#### 7.2 Before the hypotheses may be tested, state the required assumptions. Are the assumptions fulfilled? Comment separately on both alloy types.? "
   ]
  },
  {
   "cell_type": "code",
   "execution_count": 138,
   "id": "7f257779",
   "metadata": {},
   "outputs": [
    {
     "data": {
      "text/plain": [
       "Text(900, 0.002, '<-Alloy 2:PDF')"
      ]
     },
     "execution_count": 138,
     "metadata": {},
     "output_type": "execute_result"
    },
    {
     "data": {
      "image/png": "[encoded data removed]",
      "text/plain": [
       "<Figure size 432x288 with 1 Axes>"
      ]
     },
     "metadata": {
      "needs_background": "light"
     },
     "output_type": "display_data"
    }
   ],
   "source": [
    "k=np.linspace(dent.Response.min(), dent.Response.max())\n",
    "\n",
    "plt.plot(k, stats.norm.pdf(k, dent_alloy1.Response.mean(),dent_alloy1.Response.std()))\n",
    "plt.plot(k, stats.norm.pdf(k, dent_alloy2.Response.mean(),dent_alloy2.Response.std()))\n",
    "plt.title('Distribution Graph for Alloy Type 1')\n",
    "plt.xlabel('Implant Hardness: Response')\n",
    "plt.text(320,0.0010, 'Alloy 1:PDF->')\n",
    "plt.text(900,0.0020, '<-Alloy 2:PDF')"
   ]
  },
  {
   "cell_type": "markdown",
   "id": "a4acefc0",
   "metadata": {},
   "source": [
    "   - #### Assumtions & Comments:\n",
    "     - Alloy 1-\n",
    "             Implant Hardness:Response is continuous & normally distributed for Alloy 1 can be clearly seen in the blue curve\n",
    "             There are 5 dentist category hence, degrees of freedom in df is 4 (n-1) in Alloy 1\n",
    "             Variance of Alloy 1 is not exact same to Alloy 2 but correspond to approximate\n",
    "             There are 45 Samples, so residual ddof is 45-1 = 44, 44-(ddof accounted for Dentist), So it is 40\n",
    "             The Variance between Dentist Category is about 1.97 times the variance within each Dentist Categories\n",
    "     - Alloy 2-\n",
    "             Implant Hardness: Response is continuous & normally distributed for Type 2 Alloy, can be seen in Orange curve\n",
    "             There are 5 dentist category hence, degrees of freedom in df is 4 (n-1) in Alloy 2 \n",
    "             There are 45 Samples, so residual ddof is 45-1 = 44, 44-(ddof accounted for Dentist), So it is 40 \n",
    "             The Variance between Dentist Category is about 0.52 times the variance within each Dentist Categories"
   ]
  },
  {
   "cell_type": "markdown",
   "id": "717b2dac",
   "metadata": {},
   "source": [
    "#### 7.3 Irrespective of your conclusion in 2, we will continue with the testing procedure. What do you conclude regarding whether implant hardness depends on dentists? Clearly state your conclusion. If the null hypothesis is rejected, is it possible to identify which pairs of dentists differ?"
   ]
  },
  {
   "cell_type": "markdown",
   "id": "58432c1e",
   "metadata": {},
   "source": [
    "   - Conclusion:\n",
    "\n",
    "1. Both the anova test of Alloy(Type 1) & Alloy (Type2), the {p-value(f-critical)} PR(>F) is greater than Significance Level(alpha) 0.05.\n",
    "2. For Alloy Type 1: the PR(>F) is 0.11 which is greater than Significance Level 0.05. Hence, We fail to Reject the Null Hypothesis. Hence, There is no difference among the Dentist on Implant Hardness for Alloy Type 1\n",
    "3. For Alloy Type 2: the PR(>F) is 0.71 which is greater than Significance Level 0.05. Hence, We fail to Reject the Null Hypothesis. Hence, There is no difference among the Dentist on Implant Hardness for Alloy Type 2\n",
    "4. For both the Alloy Types, Implant Hardness is not impacted by Dentist Category\n",
    "5. Variability of Dentist for Alloy of Type 2 is small between variance between Dentists and variance within dentists\n",
    "6. Dentist is a significant cause in Implant Hardness for Alloy 1 "
   ]
  },
  {
   "cell_type": "markdown",
   "id": "dcc7dbfa",
   "metadata": {},
   "source": [
    "#### 7.4 Now test whether there is any difference among the methods on the hardness of dental implant, separately for the two types of alloys. What are your conclusions? If the null hypothesis is rejected, is it possible to identify which pairs of methods differ?"
   ]
  },
  {
   "cell_type": "markdown",
   "id": "958de1a8",
   "metadata": {},
   "source": [
    "Seperately testing for two Alloy types"
   ]
  },
  {
   "cell_type": "markdown",
   "id": "316ec6d3",
   "metadata": {},
   "source": [
    " - #### ALLOY TYPE 1:\n",
    "    \n",
    "    - Null Hypothesis:\n",
    "    >$H_0: Implant Hardness For Different Method Are Same$\n",
    "\n",
    "    - Alternative Hypothesis:\n",
    "    >$H_1: Implane Hardness For Different Method Are Not Same$"
   ]
  },
  {
   "cell_type": "code",
   "execution_count": 139,
   "id": "b1e496cc",
   "metadata": {},
   "outputs": [
    {
     "name": "stdout",
     "output_type": "stream",
     "text": [
      "             df         sum_sq       mean_sq         F    PR(>F)\n",
      "C(Method)   2.0  148472.177778  74236.088889  6.263327  0.004163\n",
      "Residual   42.0  497805.066667  11852.501587       NaN       NaN\n"
     ]
    }
   ],
   "source": [
    "#model for Alloy 1\n",
    "formula = 'Response ~ C(Method)'\n",
    "model = ols(formula, dent_alloy1).fit()\n",
    "aov_table = anova_lm(model)\n",
    "print(aov_table)"
   ]
  },
  {
   "cell_type": "markdown",
   "id": "e4998e0c",
   "metadata": {},
   "source": [
    "Since the PR(>F) is 0.0041 which is less than Significance Level(alpha) 0.05,\n",
    "We will Reject the Null Hypothesis."
   ]
  },
  {
   "cell_type": "markdown",
   "id": "ff236532",
   "metadata": {},
   "source": [
    " - #### ALLOY TYPE 2:\n",
    "    \n",
    "    - Null Hypothesis:\n",
    "    >$H_0: Implant Hardness For Different Method Are Same$\n",
    "\n",
    "    - Alternative Hypothesis:\n",
    "    >$H_1: Implane Hardness For Different Method Are Not Same$"
   ]
  },
  {
   "cell_type": "code",
   "execution_count": 140,
   "id": "07d98ff6",
   "metadata": {},
   "outputs": [
    {
     "name": "stdout",
     "output_type": "stream",
     "text": [
      "             df    sum_sq        mean_sq        F    PR(>F)\n",
      "C(Method)   2.0  499640.4  249820.200000  16.4108  0.000005\n",
      "Residual   42.0  639362.4   15222.914286      NaN       NaN\n"
     ]
    }
   ],
   "source": [
    "#model for Alloy 2\n",
    "formula = 'Response ~ C(Method)'\n",
    "model = ols(formula, dent_alloy2).fit()\n",
    "aov_table = anova_lm(model)\n",
    "print(aov_table)"
   ]
  },
  {
   "cell_type": "markdown",
   "id": "a1c5c6b3",
   "metadata": {},
   "source": [
    "Since the PR(>F) is 0.000005 which is much less than Significance Level(alpha) 0.05,\n",
    "We will Reject the Null Hypothesis."
   ]
  },
  {
   "cell_type": "code",
   "execution_count": 141,
   "id": "b6d3bd9c",
   "metadata": {},
   "outputs": [
    {
     "data": {
      "image/png": "[encoded data removed]",
      "text/plain": [
       "<Figure size 432x288 with 1 Axes>"
      ]
     },
     "metadata": {
      "needs_background": "light"
     },
     "output_type": "display_data"
    }
   ],
   "source": [
    "#plot to identify which method differ\n",
    "sns.pointplot(x='Method', y='Response', data=dent_c, hue='Alloy', ci=None).set(title='Plot to Identify Method');"
   ]
  },
  {
   "cell_type": "markdown",
   "id": "850c7580",
   "metadata": {},
   "source": [
    "   - #### Conlusion:\n",
    "\n",
    "1. Both the anova test of Alloy(Type 1) & Alloy (Type2), the {p-value(f-critical)} PR(>F) is less than Significance Level(alpha) 0.05.\n",
    "2. For Alloy Type 1: the PR(>F) is 0.0041 which is less than Significance Level 0.05. \n",
    "3. Hence, We will Reject the Null Hypothesis. There is significance difference among the Methods on Implant Hardness for Alloy Type 1\n",
    "\n",
    "4. For Alloy Type 2: the PR(>F) is 0.000005 which is much less than Significance Level 0.05. Hence, We will Reject the Null Hypothesis. Hence, There is significance difference among the Dentist on Implant Hardness for Alloy Type 2\n",
    "\n",
    "5. For both the Alloy Types, Implant Hardness is impacted by Method Applied\n",
    "6. The variance between methods in Alloy (type 2) is 16.41 times the variance within the methods\n",
    "7. Hence, Method in both Alloy types is a significant cause for Implant Hardness\n",
    "\n",
    "- From the graph of pointplot to identify Method difference:\n",
    "1. The Method 3 of both Alloy types has significantly less mean of Response (Implant Hardness)\n",
    "2. Method 2 of Alloy (type 2) has the best Response mean than all other method\n",
    "3. Methods of Alloy (type 2) has greater mean Response than Alloy(type1)"
   ]
  },
  {
   "cell_type": "markdown",
   "id": "4567cd8f",
   "metadata": {},
   "source": [
    "#### 7.5 Now test whether there is any difference among the temperature levels on the hardness of dental implant, separately for the two types of alloys. What are your conclusions? If the null hypothesis is rejected, is it possible to identify which levels of temperatures differ?"
   ]
  },
  {
   "cell_type": "markdown",
   "id": "05e0478b",
   "metadata": {},
   "source": [
    "Seperately testing for two Alloy types"
   ]
  },
  {
   "cell_type": "markdown",
   "id": "50c219b0",
   "metadata": {},
   "source": [
    " - #### ALLOY TYPE 1:\n",
    "    \n",
    "    - Null Hypothesis:\n",
    "    >$H_0: Implant Hardness For Different Temperatures Are Same$\n",
    "\n",
    "    - Alternative Hypothesis:\n",
    "    >$H_1: Implane Hardness For Different Temperatures Are Not Same$"
   ]
  },
  {
   "cell_type": "code",
   "execution_count": 142,
   "id": "cd255b4c",
   "metadata": {},
   "outputs": [
    {
     "name": "stdout",
     "output_type": "stream",
     "text": [
      "            df         sum_sq       mean_sq         F    PR(>F)\n",
      "C(Temp)    2.0   10154.444444   5077.222222  0.335224  0.717074\n",
      "Residual  42.0  636122.800000  15145.780952       NaN       NaN\n"
     ]
    }
   ],
   "source": [
    "#model for Alloy 1\n",
    "formula = 'Response ~ C(Temp)'\n",
    "model = ols(formula, dent_alloy1).fit()\n",
    "aov_table = anova_lm(model)\n",
    "print(aov_table)"
   ]
  },
  {
   "cell_type": "markdown",
   "id": "83813c0b",
   "metadata": {},
   "source": [
    "Since the PR(>F) is 0.71 which is greater than Significance Level(alpha) 0.05,\n",
    "We Fail to Reject the Null Hypothesis."
   ]
  },
  {
   "cell_type": "markdown",
   "id": "fa608fa7",
   "metadata": {},
   "source": [
    " - #### ALLOY TYPE 2:\n",
    "    \n",
    "    - Null Hypothesis:\n",
    "    >$H_0: Implant Hardness For Different Temperatures Are Same$\n",
    "\n",
    "    - Alternative Hypothesis:\n",
    "    >$H_1: Implane Hardness For Different Temperatures Are Not Same$"
   ]
  },
  {
   "cell_type": "code",
   "execution_count": 143,
   "id": "36f70256",
   "metadata": {},
   "outputs": [
    {
     "name": "stdout",
     "output_type": "stream",
     "text": [
      "            df        sum_sq       mean_sq         F    PR(>F)\n",
      "C(Temp)    2.0  9.374893e+04  46874.466667  1.883492  0.164678\n",
      "Residual  42.0  1.045254e+06  24886.996825       NaN       NaN\n"
     ]
    }
   ],
   "source": [
    "#model for Alloy 2\n",
    "formula = 'Response ~ C(Temp)'\n",
    "model = ols(formula, dent_alloy2).fit()\n",
    "aov_table = anova_lm(model)\n",
    "print(aov_table)"
   ]
  },
  {
   "cell_type": "markdown",
   "id": "cdf9b0b7",
   "metadata": {},
   "source": [
    "Since the PR(>F) is 0.16 which is greater than Significance Level(alpha) 0.05,\n",
    "We Fail to Reject the Null Hypothesis."
   ]
  },
  {
   "cell_type": "markdown",
   "id": "3534fe09",
   "metadata": {},
   "source": [
    "   - #### Conlusion:\n",
    "\n",
    "1. Both the anova test of Alloy(Type 1) & Alloy (Type2), the {p-value(f-critical)} PR(>F) is greater than Significance Level(alpha) 0.05.\n",
    "2. For Alloy Type 1: the PR(>F) is 0.71 which is greater than Significance Level 0.05. \n",
    "3. Hence, We fail to Reject the Null Hypothesis. There is no significance difference among the Temperatures on Implant Hardness for Alloy Type 1\n",
    "\n",
    "4. For Alloy Type 2: the PR(>F) is 0.16 which is greater than Significance Level 0.05. Hence, We fail Reject the Null Hypothesis. Hence, There is no significance difference among the Temperatures on Implant Hardness for Alloy Type 2\n",
    "\n",
    "5. For both the Alloy Types, Implant Hardness is not impacted by Temperatures\n",
    "6. The variance between Temperatures in Alloy (type 2) is 1.88 times the variance within the Temperatures"
   ]
  },
  {
   "cell_type": "markdown",
   "id": "5dd60fb4",
   "metadata": {},
   "source": [
    "#### 7.6 Consider the interaction effect of dentist and method and comment on the interaction plot, separately for the two types of alloys?"
   ]
  },
  {
   "cell_type": "markdown",
   "id": "0d45f08c",
   "metadata": {},
   "source": [
    "Interaction plot for both the type of Alloy"
   ]
  },
  {
   "cell_type": "code",
   "execution_count": 144,
   "id": "a6abd5e9",
   "metadata": {},
   "outputs": [
    {
     "data": {
      "text/plain": [
       "[Text(0.5, 1.0, 'Interaction Graph : Alloy 1')]"
      ]
     },
     "execution_count": 144,
     "metadata": {},
     "output_type": "execute_result"
    },
    {
     "data": {
      "image/png": "[encoded data removed]",
      "text/plain": [
       "<Figure size 432x288 with 1 Axes>"
      ]
     },
     "metadata": {
      "needs_background": "light"
     },
     "output_type": "display_data"
    }
   ],
   "source": [
    "#plot to identify interaction between dentist and method for Alloy Type 1\n",
    "sns.pointplot(x='Method', y='Response', data=dent_alloy1, hue='Dentist', ci=None).set(title='Interaction Graph : Alloy 1')"
   ]
  },
  {
   "cell_type": "code",
   "execution_count": 145,
   "id": "8236396a",
   "metadata": {},
   "outputs": [
    {
     "data": {
      "text/plain": [
       "[Text(0.5, 1.0, 'Interaction Graph : Alloy 2')]"
      ]
     },
     "execution_count": 145,
     "metadata": {},
     "output_type": "execute_result"
    },
    {
     "data": {
      "image/png": "[encoded data removed]",
      "text/plain": [
       "<Figure size 432x288 with 1 Axes>"
      ]
     },
     "metadata": {
      "needs_background": "light"
     },
     "output_type": "display_data"
    }
   ],
   "source": [
    "#plot to identify interaction between dentist and method for Alloy Type 2\n",
    "sns.pointplot(x='Method', y='Response', data=dent_alloy2, hue='Dentist', ci=None).set(title='Interaction Graph : Alloy 2')"
   ]
  },
  {
   "cell_type": "markdown",
   "id": "2a723a38",
   "metadata": {},
   "source": [
    "Seperately testing for two Alloy types"
   ]
  },
  {
   "cell_type": "markdown",
   "id": "ba75c0fd",
   "metadata": {},
   "source": [
    " - #### ALLOY TYPE 1:\n",
    "    \n",
    "    - Null Hypothesis:\n",
    "    >$H_0: Implant Hardness For Interaction Level Are Same$\n",
    "\n",
    "    - Alternative Hypothesis:\n",
    "    >$H_1: Implane Hardness For Interaction Level Are Not Same$"
   ]
  },
  {
   "cell_type": "code",
   "execution_count": 146,
   "id": "fed03f39",
   "metadata": {},
   "outputs": [
    {
     "name": "stdout",
     "output_type": "stream",
     "text": [
      "                        df         sum_sq       mean_sq          F    PR(>F)\n",
      "C(Dentist)             4.0  106683.688889  26670.922222   3.899638  0.011484\n",
      "C(Method)              2.0  148472.177778  74236.088889  10.854287  0.000284\n",
      "C(Dentist):C(Method)   8.0  185941.377778  23242.672222   3.398383  0.006793\n",
      "Residual              30.0  205180.000000   6839.333333        NaN       NaN\n"
     ]
    }
   ],
   "source": [
    "#model for Alloy 1\n",
    "formula = 'Response ~ C(Dentist) + C(Method) + C(Dentist):C(Method)'\n",
    "model = ols(formula, dent_alloy1).fit()\n",
    "aov_table = anova_lm(model)\n",
    "print(aov_table)"
   ]
  },
  {
   "cell_type": "markdown",
   "id": "794dd214",
   "metadata": {},
   "source": [
    " - #### ALLOY TYPE 2:\n",
    "    \n",
    "    - Null Hypothesis:\n",
    "    >$H_0: Implant Hardness For Interaction Level Are Same$\n",
    "\n",
    "    - Alternative Hypothesis:\n",
    "    >$H_1: Implane Hardness For Interaction Level Are Not Same$"
   ]
  },
  {
   "cell_type": "code",
   "execution_count": 147,
   "id": "21e15d5c",
   "metadata": {},
   "outputs": [
    {
     "name": "stdout",
     "output_type": "stream",
     "text": [
      "                        df         sum_sq        mean_sq          F    PR(>F)\n",
      "C(Dentist)             4.0   56797.911111   14199.477778   1.106152  0.371833\n",
      "C(Method)              2.0  499640.400000  249820.200000  19.461218  0.000004\n",
      "C(Dentist):C(Method)   8.0  197459.822222   24682.477778   1.922787  0.093234\n",
      "Residual              30.0  385104.666667   12836.822222        NaN       NaN\n"
     ]
    }
   ],
   "source": [
    "#model for Alloy 2\n",
    "formula = 'Response ~ C(Dentist) + C(Method) + C(Dentist):C(Method)'\n",
    "model = ols(formula, dent_alloy2).fit()\n",
    "aov_table = anova_lm(model)\n",
    "print(aov_table)"
   ]
  },
  {
   "cell_type": "markdown",
   "id": "65697610",
   "metadata": {},
   "source": [
    "- #### Conclusions:\n",
    "    - ##### Alloy 1:\n",
    "        1. As p-value of Interaction between Dentist:Method < 0.05 the Null Hypothesis is Rejected.\n",
    "        2. There is an interacting effect of Dentist & Method in Alloy 1\n",
    "    - ##### Alloy 2:\n",
    "        1. As p-value of Interaction between Dentist:Method > 0.05 the Null Hypothesis is Failed to Reject.\n",
    "        2. Thus, there is no interacting effect of Dentist & Method in Alloy 2\n",
    "        3. Although from the interaction plot of Alloy 2 we could see that there is an interaction, but it is not estabilished by statistical method."
   ]
  },
  {
   "cell_type": "markdown",
   "id": "eb6d0ec3",
   "metadata": {},
   "source": [
    "#### 7.7 Now consider the effect of both factors, dentist, and method, separately on each alloy. What do you conclude? Is it possible to identify which dentists are different, which methods are different, and which interaction levels are different?"
   ]
  },
  {
   "cell_type": "code",
   "execution_count": 148,
   "id": "bc1d2511",
   "metadata": {},
   "outputs": [
    {
     "data": {
      "text/plain": [
       "<AxesSubplot:xlabel='Method', ylabel='Response'>"
      ]
     },
     "execution_count": 148,
     "metadata": {},
     "output_type": "execute_result"
    },
    {
     "data": {
      "image/png": "[encoded data removed]",
      "text/plain": [
       "<Figure size 432x288 with 1 Axes>"
      ]
     },
     "metadata": {
      "needs_background": "light"
     },
     "output_type": "display_data"
    }
   ],
   "source": [
    "sns.pointplot(x='Method', y='Response', data=dent_c, hue='Dentist', ci=None)"
   ]
  },
  {
   "cell_type": "markdown",
   "id": "0a9b1404",
   "metadata": {},
   "source": [
    "- #### Conclusions:\n",
    "    - ##### Alloy 1:\n",
    "        1. As p-value > 0.05 in Anova table of Dentist, we fail to reject the Null Hypothesis.The different Dentist Categories for Implant Hardness are same\n",
    "        2. Thus the Dentist Categories does not impacts Implant Hardness \n",
    "        2. In Anova table of Method: p-value < 0.05, the Null Hypothesis is Rejected for Method Category.\n",
    "        Thus, the different Methods impact Implant Hardness\n",
    "        3. In Anova table of Dentist interacting with Method: p-value < 0.05, the Null Hypothesis is Rejected\n",
    "        4. There is an interacting effect of Dentist & Method in Alloy 1 as interatacting p-value < 0.05 which is statistically proved\n",
    "    - ##### Alloy 2:\n",
    "        1. As p-value > 0.05 in Anova table of Dentist, we fail to reject the Null Hypothesis.The different Dentist Categories for Implant Hardness are same\n",
    "        2. Thus the Dentist Categories does not impacts Implant Hardness \n",
    "        2. In Anova table of Method: p-value < 0.05, the Null Hypothesis is Rejected for Method Category.\n",
    "        Thus, the different Methods impact Implant Hardness\n",
    "        3. In Anova table of Dentist interacting with Method: p-value > 0.05, the Null Hypothesis is Failed to Rejected\n",
    "        4. There is no interaction of Dentist & Method in Alloy 2 as interatacting p-value > 0.05"
   ]
  }
 ],
 "metadata": {
  "kernelspec": {
   "display_name": "Python 3 (ipykernel)",
   "language": "python",
   "name": "python3"
  },
  "language_info": {
   "codemirror_mode": {
    "name": "ipython",
    "version": 3
   },
   "file_extension": ".py",
   "mimetype": "text/x-python",
   "name": "python",
   "nbconvert_exporter": "python",
   "pygments_lexer": "ipython3",
   "version": "3.9.13"
  }
 },
 "nbformat": 4,
 "nbformat_minor": 5
}
